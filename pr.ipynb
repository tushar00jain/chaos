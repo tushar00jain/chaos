{
 "cells": [
  {
   "cell_type": "code",
   "execution_count": 1,
   "metadata": {},
   "outputs": [],
   "source": [
    "import numpy as np\n",
    "import matplotlib.pyplot as plt\n",
    "import IPython.display as display\n",
    "import math\n",
    "\n",
    "from matplotlib import colors\n",
    "from IPython.display import set_matplotlib_formats\n",
    "\n",
    "\n",
    "np.set_printoptions(precision=8)\n",
    "\n",
    "%matplotlib inline"
   ]
  },
  {
   "cell_type": "code",
   "execution_count": 2,
   "metadata": {},
   "outputs": [],
   "source": [
    "N = 10\n",
    "N2 = N * N\n",
    "\n",
    "NOISE = 10\n",
    "T = 100\n",
    "THRESHOLD = 10\n",
    "\n",
    "E = 0.00015\n",
    "KF = 0.2\n",
    "KR = 0.9\n",
    "ALPHA = 10"
   ]
  },
  {
   "cell_type": "code",
   "execution_count": 3,
   "metadata": {},
   "outputs": [],
   "source": [
    "def create_patterns():\n",
    "    zero = np.array([\n",
    "        [0, 0, 0, 1, 1, 1, 1, 0, 0, 0],\n",
    "        [0, 0, 1, 0, 0, 0, 0, 1, 0, 0],\n",
    "        [0, 1, 0, 0, 0, 0, 0, 0, 1, 0],\n",
    "        [0, 1, 0, 0, 0, 0, 0, 0, 1, 0],\n",
    "        [0, 1, 0, 0, 0, 0, 0, 0, 1, 0],\n",
    "        [0, 1, 0, 0, 0, 0, 0, 0, 1, 0],\n",
    "        [0, 1, 0, 0, 0, 0, 0, 0, 1, 0],\n",
    "        [0, 1, 0, 0, 0, 0, 0, 0, 1, 0],\n",
    "        [0, 0, 1, 0, 0, 0, 0, 1, 0, 0],\n",
    "        [0, 0, 0, 1, 1, 1, 1, 0, 0, 0]\n",
    "    ])\n",
    "\n",
    "    one = np.array([\n",
    "        [0, 0, 0, 0, 0, 0, 0, 0, 1, 1],\n",
    "        [0, 0, 0, 0, 0, 0, 0, 1, 1, 1],\n",
    "        [0, 0, 0, 0, 0, 0, 1, 1, 1, 1],\n",
    "        [0, 0, 0, 0, 0, 1, 1, 0, 1, 1],\n",
    "        [0, 0, 0, 0, 0, 1, 0, 0, 1, 1],\n",
    "        [0, 0, 0, 0, 0, 0, 0, 0, 1, 1],\n",
    "        [0, 0, 0, 0, 0, 0, 0, 0, 1, 1],\n",
    "        [0, 0, 0, 0, 0, 0, 0, 0, 1, 1],\n",
    "        [0, 0, 0, 0, 0, 0, 0, 0, 1, 1],\n",
    "        [0, 0, 0, 0, 0, 0, 0, 0, 1, 1]\n",
    "    ])\n",
    "\n",
    "    two = np.array([\n",
    "        [0, 0, 0, 0, 1, 1, 0, 0, 0, 0],\n",
    "        [0, 0, 0, 1, 1, 1, 0, 0, 0, 0],\n",
    "        [0, 0, 0, 1, 0, 0, 1, 0, 0, 0],\n",
    "        [0, 0, 0, 0, 0, 0, 1, 1, 0, 0],\n",
    "        [0, 0, 0, 0, 0, 0, 1, 1, 0, 0],\n",
    "        [0, 0, 0, 0, 0, 0, 1, 0, 0, 0],\n",
    "        [0, 0, 0, 0, 1, 1, 1, 0, 0, 0],\n",
    "        [0, 0, 0, 1, 1, 0, 0, 0, 0, 0],\n",
    "        [0, 0, 0, 1, 0, 0, 0, 0, 0, 0],\n",
    "        [0, 0, 1, 1, 1, 1, 1, 0, 0, 0]\n",
    "    ])\n",
    "\n",
    "    three = np.array([\n",
    "        [0, 0, 0, 1, 1, 1, 0, 0, 0, 0],\n",
    "        [0, 0, 1, 1, 0, 1, 1, 0, 0, 0],\n",
    "        [0, 0, 1, 0, 0, 0, 1, 0, 0, 0],\n",
    "        [0, 0, 0, 0, 0, 0, 1, 0, 0, 0],\n",
    "        [0, 0, 0, 0, 0, 1, 0, 0, 0, 0],\n",
    "        [0, 0, 0, 1, 1, 1, 0, 0, 0, 0],\n",
    "        [0, 0, 0, 0, 0, 1, 1, 0, 0, 0],\n",
    "        [0, 0, 0, 0, 0, 0, 1, 0, 0, 0],\n",
    "        [0, 0, 1, 1, 0, 1, 1, 0, 0, 0],\n",
    "        [0, 0, 0, 1, 1, 1, 0, 0, 0, 0]\n",
    "    ])\n",
    "\n",
    "    four = np.array([\n",
    "        [0, 0, 1, 0, 0, 0, 0, 0, 0, 0],\n",
    "        [0, 0, 1, 0, 0, 0, 0, 0, 0, 0],\n",
    "        [0, 0, 1, 0, 0, 1, 1, 0, 0, 0],\n",
    "        [0, 0, 1, 0, 0, 1, 1, 0, 0, 0],\n",
    "        [0, 0, 1, 1, 1, 1, 1, 1, 0, 0],\n",
    "        [0, 0, 0, 0, 0, 1, 1, 0, 0, 0],\n",
    "        [0, 0, 0, 0, 0, 1, 1, 0, 0, 0],\n",
    "        [0, 0, 0, 0, 0, 1, 1, 0, 0, 0],\n",
    "        [0, 0, 0, 0, 0, 1, 1, 0, 0, 0],\n",
    "        [0, 0, 0, 0, 0, 1, 1, 0, 0, 0]\n",
    "    ])\n",
    "\n",
    "    five = np.array([\n",
    "        [0, 0, 1, 1, 1, 1, 1, 0, 0, 0],\n",
    "        [0, 0, 1, 1, 1, 1, 1, 0, 0, 0],\n",
    "        [0, 0, 1, 1, 0, 0, 0, 0, 0, 0],\n",
    "        [0, 0, 1, 1, 0, 0, 0, 0, 0, 0],\n",
    "        [0, 0, 1, 1, 1, 1, 1, 0, 0, 0],\n",
    "        [0, 0, 0, 0, 0, 0, 1, 0, 0, 0],\n",
    "        [0, 0, 0, 0, 0, 0, 1, 0, 0, 0],\n",
    "        [0, 0, 0, 0, 0, 0, 1, 0, 0, 0],\n",
    "        [0, 0, 0, 0, 0, 0, 1, 0, 0, 0],\n",
    "        [0, 0, 1, 1, 1, 1, 1, 0, 0, 0]\n",
    "    ])\n",
    "\n",
    "    six = np.array([\n",
    "        [0, 0, 0, 0, 0, 0, 1, 1, 0, 0],\n",
    "        [0, 0, 0, 0, 0, 1, 0, 0, 0, 0],\n",
    "        [0, 0, 0, 0, 1, 0, 0, 0, 0, 0],\n",
    "        [0, 0, 0, 1, 0, 0, 0, 0, 0, 0],\n",
    "        [0, 0, 1, 0, 0, 0, 0, 0, 0, 0],\n",
    "        [0, 0, 1, 0, 1, 1, 1, 0, 0, 0],\n",
    "        [0, 0, 1, 1, 0, 0, 0, 1, 0, 0],\n",
    "        [0, 0, 1, 0, 0, 0, 0, 1, 0, 0],\n",
    "        [0, 0, 1, 0, 0, 0, 0, 1, 0, 0],\n",
    "        [0, 0, 0, 1, 1, 1, 1, 0, 0, 0]\n",
    "    ])\n",
    "\n",
    "    seven = np.array([\n",
    "        [0, 1, 1, 1, 1, 1, 1, 1, 1, 0],\n",
    "        [0, 1, 1, 1, 1, 1, 1, 1, 1, 0],\n",
    "        [0, 0, 0, 0, 0, 0, 0, 1, 0, 0],\n",
    "        [0, 0, 0, 0, 0, 0, 1, 0, 0, 0],\n",
    "        [0, 0, 0, 0, 0, 1, 0, 0, 0, 0],\n",
    "        [0, 0, 0, 0, 0, 1, 0, 0, 0, 0],\n",
    "        [0, 0, 0, 0, 1, 0, 0, 0, 0, 0],\n",
    "        [0, 0, 0, 1, 0, 0, 0, 0, 0, 0],\n",
    "        [0, 0, 1, 0, 0, 0, 0, 0, 0, 0],\n",
    "        [0, 1, 1, 0, 0, 0, 0, 0, 0, 0]\n",
    "    ])\n",
    "\n",
    "\n",
    "    eight = np.array([\n",
    "        [0, 0, 0, 1, 1, 1, 0, 0, 0, 0],\n",
    "        [0, 0, 1, 0, 0, 0, 1, 0, 0, 0],\n",
    "        [0, 1, 0, 0, 0, 0, 0, 1, 0, 0],\n",
    "        [0, 1, 0, 0, 0, 0, 0, 1, 0, 0],\n",
    "        [0, 0, 1, 1, 1, 1, 1, 0, 0, 0],\n",
    "        [0, 0, 1, 0, 0, 0, 1, 0, 0, 0],\n",
    "        [0, 1, 0, 0, 0, 0, 0, 1, 0, 0],\n",
    "        [0, 1, 0, 0, 0, 0, 0, 1, 0, 0],\n",
    "        [0, 0, 1, 0, 0, 0, 1, 0, 0, 0],\n",
    "        [0, 0, 0, 1, 1, 1, 0, 0, 0, 0]\n",
    "    ])\n",
    "\n",
    "    nine = np.array([\n",
    "        [0, 0, 0, 1, 1, 1, 1, 0, 0, 0],\n",
    "        [0, 0, 1, 0, 0, 0, 0, 1, 0, 0],\n",
    "        [0, 0, 1, 0, 0, 0, 0, 1, 0, 0],\n",
    "        [0, 0, 1, 0, 0, 0, 0, 1, 0, 0],\n",
    "        [0, 0, 0, 1, 0, 0, 1, 1, 0, 0],\n",
    "        [0, 0, 0, 0, 1, 1, 0, 1, 0, 0],\n",
    "        [0, 0, 0, 0, 0, 0, 0, 1, 0, 0],\n",
    "        [0, 0, 0, 0, 0, 0, 0, 1, 0, 0],\n",
    "        [0, 0, 1, 0, 0, 0, 0, 1, 0, 0],\n",
    "        [0, 0, 0, 1, 1, 1, 1, 0, 0, 0]\n",
    "    ])\n",
    "\n",
    "    patterns = [\n",
    "        zero.flatten(),\n",
    "        one.flatten(),\n",
    "        two.flatten(),\n",
    "        three.flatten(),\n",
    "        four.flatten(),\n",
    "        five.flatten(),\n",
    "        six.flatten(),\n",
    "        seven.flatten(),\n",
    "        eight.flatten(),\n",
    "        nine.flatten()\n",
    "    ]\n",
    "\n",
    "    return patterns\n",
    "\n",
    "def create_W():\n",
    "    W = np.zeros((N2, N2))\n",
    "    for i in range(N2):\n",
    "        for j in range(N2):\n",
    "            if i == j:\n",
    "                W[i, j] = 0\n",
    "                continue\n",
    "            for p in patterns:\n",
    "                W[i, j] += (p[i] * p[j])\n",
    "            W[i, j] /= len(patterns)\n",
    "    return W"
   ]
  },
  {
   "cell_type": "code",
   "execution_count": 4,
   "metadata": {},
   "outputs": [],
   "source": [
    "def plot(x, n=N, cmap='binary', cbar=True):\n",
    "    fig, ax = plt.subplots(figsize=(5, 5))\n",
    "    im = ax.imshow(x.reshape((n, n)), cmap=cmap, vmin=0, vmax=1)\n",
    "    \n",
    "    ax.minorticks_on()\n",
    "    ax.grid(which='major', linestyle='-', linewidth='0.5', color='black')\n",
    "    ax.grid(which='minor', linestyle='-', linewidth='0.5', color='black')\n",
    "    \n",
    "    if cbar:\n",
    "        fig.colorbar(im, ax=ax)\n",
    "    \n",
    "    return fig, ax"
   ]
  },
  {
   "cell_type": "code",
   "execution_count": 5,
   "metadata": {},
   "outputs": [],
   "source": [
    "def add_noise(x):\n",
    "    y = np.copy(x)\n",
    "    \n",
    "    for i in range(NOISE):\n",
    "        n = np.random.randint(N2)\n",
    "\n",
    "        if y[n] == 0:\n",
    "            y[n] = 1\n",
    "            continue\n",
    "        y[n] = 0\n",
    "\n",
    "    return y"
   ]
  },
  {
   "cell_type": "code",
   "execution_count": 6,
   "metadata": {},
   "outputs": [],
   "source": [
    "def draw():\n",
    "    def redraw(u, cmap=None, refresh=True):\n",
    "        if cmap is None:\n",
    "            plot(u)\n",
    "        else:\n",
    "            plot(u, cmap=cmap)\n",
    "    \n",
    "        if refresh:\n",
    "            display.clear_output(wait=True)\n",
    "            plt.pause(0.5)\n",
    "        \n",
    "    return redraw"
   ]
  },
  {
   "cell_type": "code",
   "execution_count": 7,
   "metadata": {},
   "outputs": [],
   "source": [
    "def distance(p, u):\n",
    "    s = 0\n",
    "    for i in range(N2):\n",
    "        s += abs(u[i] - p[i])\n",
    "    return s"
   ]
  },
  {
   "cell_type": "code",
   "execution_count": 8,
   "metadata": {},
   "outputs": [],
   "source": [
    "def f(x):\n",
    "    return 1 / (1 + np.exp(-x/E))"
   ]
  },
  {
   "cell_type": "code",
   "execution_count": 9,
   "metadata": {},
   "outputs": [],
   "source": [
    "patterns = create_patterns()\n",
    "W = create_W()\n",
    "noise_patterns = list(map(add_noise, patterns))"
   ]
  },
  {
   "cell_type": "code",
   "execution_count": 10,
   "metadata": {},
   "outputs": [],
   "source": [
    "def madnn(y, should_plot, refresh):\n",
    "    CMAP = colors.LinearSegmentedColormap.from_list(\"\", [\"white\",\"purple\"])\n",
    "\n",
    "    redraw = draw()\n",
    "    \n",
    "    a = np.copy(y)\n",
    "    \n",
    "    n = np.zeros(N2)\n",
    "    e = np.zeros(N2)\n",
    "    u = np.random.uniform(0, 1, N2)\n",
    "    \n",
    "    count = []\n",
    "    period = []\n",
    "    distances = []\n",
    "    \n",
    "    for i in range(len(patterns)):\n",
    "        count.append([])\n",
    "        period.append([])\n",
    "        distances.append([])\n",
    "\n",
    "    for t in range(T):\n",
    "        uu = np.copy(u)\n",
    "\n",
    "        for i in range(N2):\n",
    "            wu = 0\n",
    "            for j in range(N2):\n",
    "                wu += (W[i, j] * uu[j])\n",
    "            \n",
    "            n[i] = KF * n[-1] + wu\n",
    "            e[i] = KR * e[-1] - ALPHA * u[i] + a[i]\n",
    "            u[i] = f(n[i] + e[i])\n",
    "\n",
    "        c = False\n",
    "        for i, p in enumerate(patterns):\n",
    "            d = distance(p, u)\n",
    "            if d <= THRESHOLD:\n",
    "                count[i].append(t)\n",
    "                distances[i].append(d)\n",
    "                c = True\n",
    "\n",
    "        if should_plot:\n",
    "            if c:\n",
    "                redraw(u, cmap=CMAP, refresh=refresh)\n",
    "\n",
    "            else:\n",
    "                redraw(u, cmap='Greys', refresh=refresh)\n",
    "    \n",
    "    for i, p in enumerate(count):\n",
    "        for j in range(1, len(p)):\n",
    "            period[i].append(count[i][j] - count[i][j-1])\n",
    "            \n",
    "    return count, period, distances"
   ]
  },
  {
   "cell_type": "code",
   "execution_count": 11,
   "metadata": {},
   "outputs": [
    {
     "name": "stderr",
     "output_type": "stream",
     "text": [
      "<ipython-input-8-e45ae1dd333e>:2: RuntimeWarning: overflow encountered in exp\n",
      "  return 1 / (1 + np.exp(-x/E))\n"
     ]
    }
   ],
   "source": [
    "count, period, distances = madnn(noise_patterns[1], should_plot=True, refresh=True)"
   ]
  },
  {
   "cell_type": "code",
   "execution_count": 12,
   "metadata": {},
   "outputs": [
    {
     "data": {
      "text/plain": [
       "[[], [7, 15, 7, 7, 8, 7, 7, 8, 7, 7, 8], [], [], [], [], [], [], [], []]"
      ]
     },
     "execution_count": 12,
     "metadata": {},
     "output_type": "execute_result"
    }
   ],
   "source": [
    "period"
   ]
  },
  {
   "cell_type": "code",
   "execution_count": 13,
   "metadata": {},
   "outputs": [
    {
     "data": {
      "image/png": "[encoded data removed]",
      "text/plain": [
       "<Figure size 360x360 with 1 Axes>"
      ]
     },
     "metadata": {
      "needs_background": "light"
     },
     "output_type": "display_data"
    }
   ],
   "source": [
    "f, a = plot(noise_patterns[1].flatten(), cbar=False)"
   ]
  },
  {
   "cell_type": "code",
   "execution_count": 14,
   "metadata": {},
   "outputs": [],
   "source": [
    "f.savefig('plot.png')"
   ]
  },
  {
   "cell_type": "code",
   "execution_count": 35,
   "metadata": {},
   "outputs": [],
   "source": [
    "from PIL import Image\n",
    "\n",
    "yy = np.copy(noise_patterns[1])\n",
    "\n",
    "for i in range(N2):\n",
    "    if yy[i] == 0:\n",
    "        yy[i] = 255\n",
    "        \n",
    "\n",
    "xx = yy.reshape((N, N)).astype(np.uint8)\n",
    "\n",
    "im = Image.fromarray(xx)\n",
    "im.save('test.png')"
   ]
  },
  {
   "cell_type": "code",
   "execution_count": null,
   "metadata": {},
   "outputs": [],
   "source": []
  },
  {
   "cell_type": "code",
   "execution_count": 34,
   "metadata": {},
   "outputs": [
    {
     "data": {
      "text/plain": [
       "array([[  0,   0,   0,   0,   0,   0,   0,   0, 255,   0],\n",
       "       [  0,   0,   0,   0,   0,   0,   0, 255, 255, 255],\n",
       "       [  0,   0,   0,   0, 255,   0,   0, 255, 255, 255],\n",
       "       [  0,   0, 255,   0,   0, 255,   0,   0, 255, 255],\n",
       "       [  0,   0,   0,   0,   0, 255,   0,   0, 255, 255],\n",
       "       [  0,   0, 255,   0,   0,   0,   0,   0, 255, 255],\n",
       "       [  0,   0,   0,   0,   0,   0,   0,   0, 255, 255],\n",
       "       [  0,   0,   0, 255,   0,   0,   0,   0,   0, 255],\n",
       "       [  0,   0,   0,   0,   0,   0,   0,   0,   0, 255],\n",
       "       [  0,   0,   0,   0,   0,   0,   0, 255, 255, 255]], dtype=uint8)"
      ]
     },
     "execution_count": 34,
     "metadata": {},
     "output_type": "execute_result"
    }
   ],
   "source": [
    "xx"
   ]
  },
  {
   "cell_type": "code",
   "execution_count": null,
   "metadata": {},
   "outputs": [],
   "source": []
  }
 ],
 "metadata": {
  "kernelspec": {
   "display_name": "Python 3",
   "language": "python",
   "name": "python3"
  },
  "language_info": {
   "codemirror_mode": {
    "name": "ipython",
    "version": 3
   },
   "file_extension": ".py",
   "mimetype": "text/x-python",
   "name": "python",
   "nbconvert_exporter": "python",
   "pygments_lexer": "ipython3",
   "version": "3.8.6"
  }
 },
 "nbformat": 4,
 "nbformat_minor": 4
}
